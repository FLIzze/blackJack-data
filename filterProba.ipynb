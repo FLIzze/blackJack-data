{
 "cells": [
  {
   "cell_type": "code",
   "execution_count": 2,
   "metadata": {},
   "outputs": [],
   "source": [
    "import pandas as pd"
   ]
  },
  {
   "cell_type": "code",
   "execution_count": 6,
   "metadata": {},
   "outputs": [],
   "source": [
    "df = pd.read_csv('probabilities.csv')"
   ]
  },
  {
   "cell_type": "code",
   "execution_count": 20,
   "metadata": {},
   "outputs": [],
   "source": [
    "grouped = df.groupby(['PlayerCard1', 'PlayerCard2', 'DealerHand'])\n",
    "\n",
    "result = grouped.agg(\n",
    "    Win=pd.NamedAgg(column='PlayerWin', aggfunc=lambda x: (x == 1).sum()),\n",
    "    Lost=pd.NamedAgg(column='PlayerWin', aggfunc=lambda x: (x == 0).sum()),\n",
    "    Push=pd.NamedAgg(column='PlayerWin', aggfunc=lambda x: (x == 2).sum()),\n",
    "    Total=pd.NamedAgg(column='PlayerWin', aggfunc='count')\n",
    ")"
   ]
  },
  {
   "cell_type": "code",
   "execution_count": null,
   "metadata": {},
   "outputs": [],
   "source": [
    "result.to_csv('filterProba.csv')"
   ]
  }
 ],
 "metadata": {
  "kernelspec": {
   "display_name": "Python 3",
   "language": "python",
   "name": "python3"
  },
  "language_info": {
   "codemirror_mode": {
    "name": "ipython",
    "version": 3
   },
   "file_extension": ".py",
   "mimetype": "text/x-python",
   "name": "python",
   "nbconvert_exporter": "python",
   "pygments_lexer": "ipython3",
   "version": "3.12.2"
  }
 },
 "nbformat": 4,
 "nbformat_minor": 2
}
